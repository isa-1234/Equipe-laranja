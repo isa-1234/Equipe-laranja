{
  "nbformat": 4,
  "nbformat_minor": 0,
  "metadata": {
    "colab": {
      "provenance": [],
      "authorship_tag": "ABX9TyMWec5KJ6Ug6xKddXOPH110"
    },
    "kernelspec": {
      "name": "python3",
      "display_name": "Python 3"
    },
    "language_info": {
      "name": "python"
    }
  },
  "cells": [
    {
      "cell_type": "markdown",
      "source": [
        "# **Análise de Dados Exploratória sobre Acidentes de Trânsito**\n",
        "\n",
        "## Acidentes de veículos nas principais rodovias de Minas Gerais\n",
        "\n",
        "<br>\n",
        "\n",
        "### **Apresentação**\n",
        "\n",
        "Para poder vizualizar a apresentação preparada pela *Equipe Laranja 🍊* para o seu projeto de análise exploratória de dados, acesse aqui:\n",
        "\n",
        "<br>\n",
        "\n",
        "[Slides da Apresentação](https://www.canva.com/design/DAF2DlorU-o/x1Iv9HJeeRtvaVB-Jvga9w/view?utm_content=DAF2DlorU-o&utm_campaign=designshare&utm_medium=link&utm_source=editor)"
      ],
      "metadata": {
        "id": "EiGikxW3K1Yx"
      }
    }
  ]
}